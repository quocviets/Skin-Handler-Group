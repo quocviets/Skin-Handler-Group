{
 "cells": [
  {
   "cell_type": "code",
   "execution_count": 1,
   "metadata": {
    "execution": {
     "iopub.execute_input": "2025-04-04T02:53:02.764582Z",
     "iopub.status.busy": "2025-04-04T02:53:02.764302Z"
    },
    "trusted": true
   },
   "outputs": [
    {
     "name": "stdout",
     "output_type": "stream",
     "text": [
      "Collecting git+https://github.com/facebookresearch/detectron2.git\n",
      "  Cloning https://github.com/facebookresearch/detectron2.git to c:\\users\\lequo\\appdata\\local\\temp\\pip-req-build-p1engh6q\n",
      "  Resolved https://github.com/facebookresearch/detectron2.git to commit 9604f5995cc628619f0e4fd913453b4d7d61db3f\n",
      "  Preparing metadata (setup.py): started\n",
      "  Preparing metadata (setup.py): finished with status 'done'\n",
      "Requirement already satisfied: Pillow>=7.1 in c:\\users\\lequo\\anaconda3\\envs\\tensorflow_env\\lib\\site-packages (from detectron2==0.6) (11.1.0)\n",
      "Requirement already satisfied: matplotlib in c:\\users\\lequo\\anaconda3\\envs\\tensorflow_env\\lib\\site-packages (from detectron2==0.6) (3.9.4)\n",
      "Requirement already satisfied: pycocotools>=2.0.2 in c:\\users\\lequo\\anaconda3\\envs\\tensorflow_env\\lib\\site-packages (from detectron2==0.6) (2.0.8)\n",
      "Requirement already satisfied: termcolor>=1.1 in c:\\users\\lequo\\anaconda3\\envs\\tensorflow_env\\lib\\site-packages (from detectron2==0.6) (2.5.0)\n",
      "Requirement already satisfied: yacs>=0.1.8 in c:\\users\\lequo\\anaconda3\\envs\\tensorflow_env\\lib\\site-packages (from detectron2==0.6) (0.1.8)\n",
      "Requirement already satisfied: tabulate in c:\\users\\lequo\\anaconda3\\envs\\tensorflow_env\\lib\\site-packages (from detectron2==0.6) (0.9.0)\n",
      "Requirement already satisfied: cloudpickle in c:\\users\\lequo\\anaconda3\\envs\\tensorflow_env\\lib\\site-packages (from detectron2==0.6) (3.1.1)\n",
      "Requirement already satisfied: tqdm>4.29.0 in c:\\users\\lequo\\anaconda3\\envs\\tensorflow_env\\lib\\site-packages (from detectron2==0.6) (4.67.1)\n",
      "Requirement already satisfied: tensorboard in c:\\users\\lequo\\anaconda3\\envs\\tensorflow_env\\lib\\site-packages (from detectron2==0.6) (2.10.1)\n",
      "Requirement already satisfied: fvcore<0.1.6,>=0.1.5 in c:\\users\\lequo\\anaconda3\\envs\\tensorflow_env\\lib\\site-packages (from detectron2==0.6) (0.1.5.post20221221)\n",
      "Requirement already satisfied: iopath<0.1.10,>=0.1.7 in c:\\users\\lequo\\anaconda3\\envs\\tensorflow_env\\lib\\site-packages (from detectron2==0.6) (0.1.9)\n",
      "Requirement already satisfied: omegaconf<2.4,>=2.1 in c:\\users\\lequo\\anaconda3\\envs\\tensorflow_env\\lib\\site-packages (from detectron2==0.6) (2.3.0)\n",
      "Requirement already satisfied: hydra-core>=1.1 in c:\\users\\lequo\\anaconda3\\envs\\tensorflow_env\\lib\\site-packages (from detectron2==0.6) (1.3.2)\n",
      "Requirement already satisfied: black in c:\\users\\lequo\\anaconda3\\envs\\tensorflow_env\\lib\\site-packages (from detectron2==0.6) (25.1.0)\n",
      "Requirement already satisfied: packaging in c:\\users\\lequo\\anaconda3\\envs\\tensorflow_env\\lib\\site-packages (from detectron2==0.6) (24.2)\n",
      "Requirement already satisfied: numpy in c:\\users\\lequo\\anaconda3\\envs\\tensorflow_env\\lib\\site-packages (from fvcore<0.1.6,>=0.1.5->detectron2==0.6) (1.26.4)\n",
      "Requirement already satisfied: pyyaml>=5.1 in c:\\users\\lequo\\anaconda3\\envs\\tensorflow_env\\lib\\site-packages (from fvcore<0.1.6,>=0.1.5->detectron2==0.6) (6.0.2)\n",
      "Requirement already satisfied: antlr4-python3-runtime==4.9.* in c:\\users\\lequo\\anaconda3\\envs\\tensorflow_env\\lib\\site-packages (from hydra-core>=1.1->detectron2==0.6) (4.9.3)\n",
      "Requirement already satisfied: portalocker in c:\\users\\lequo\\anaconda3\\envs\\tensorflow_env\\lib\\site-packages (from iopath<0.1.10,>=0.1.7->detectron2==0.6) (3.1.1)\n",
      "Requirement already satisfied: contourpy>=1.0.1 in c:\\users\\lequo\\anaconda3\\envs\\tensorflow_env\\lib\\site-packages (from matplotlib->detectron2==0.6) (1.3.0)\n",
      "Requirement already satisfied: cycler>=0.10 in c:\\users\\lequo\\anaconda3\\envs\\tensorflow_env\\lib\\site-packages (from matplotlib->detectron2==0.6) (0.12.1)\n",
      "Requirement already satisfied: fonttools>=4.22.0 in c:\\users\\lequo\\anaconda3\\envs\\tensorflow_env\\lib\\site-packages (from matplotlib->detectron2==0.6) (4.56.0)\n",
      "Requirement already satisfied: kiwisolver>=1.3.1 in c:\\users\\lequo\\anaconda3\\envs\\tensorflow_env\\lib\\site-packages (from matplotlib->detectron2==0.6) (1.4.7)\n",
      "Requirement already satisfied: pyparsing>=2.3.1 in c:\\users\\lequo\\anaconda3\\envs\\tensorflow_env\\lib\\site-packages (from matplotlib->detectron2==0.6) (3.2.1)\n",
      "Requirement already satisfied: python-dateutil>=2.7 in c:\\users\\lequo\\anaconda3\\envs\\tensorflow_env\\lib\\site-packages (from matplotlib->detectron2==0.6) (2.9.0.post0)\n",
      "Requirement already satisfied: importlib-resources>=3.2.0 in c:\\users\\lequo\\anaconda3\\envs\\tensorflow_env\\lib\\site-packages (from matplotlib->detectron2==0.6) (6.5.2)\n",
      "Requirement already satisfied: colorama in c:\\users\\lequo\\anaconda3\\envs\\tensorflow_env\\lib\\site-packages (from tqdm>4.29.0->detectron2==0.6) (0.4.6)\n",
      "Requirement already satisfied: click>=8.0.0 in c:\\users\\lequo\\anaconda3\\envs\\tensorflow_env\\lib\\site-packages (from black->detectron2==0.6) (8.1.8)\n",
      "Requirement already satisfied: mypy-extensions>=0.4.3 in c:\\users\\lequo\\anaconda3\\envs\\tensorflow_env\\lib\\site-packages (from black->detectron2==0.6) (1.0.0)\n",
      "Requirement already satisfied: pathspec>=0.9.0 in c:\\users\\lequo\\anaconda3\\envs\\tensorflow_env\\lib\\site-packages (from black->detectron2==0.6) (0.12.1)\n",
      "Requirement already satisfied: platformdirs>=2 in c:\\users\\lequo\\anaconda3\\envs\\tensorflow_env\\lib\\site-packages (from black->detectron2==0.6) (4.3.6)\n",
      "Requirement already satisfied: tomli>=1.1.0 in c:\\users\\lequo\\anaconda3\\envs\\tensorflow_env\\lib\\site-packages (from black->detectron2==0.6) (2.2.1)\n",
      "Requirement already satisfied: typing-extensions>=4.0.1 in c:\\users\\lequo\\anaconda3\\envs\\tensorflow_env\\lib\\site-packages (from black->detectron2==0.6) (4.12.2)\n",
      "Requirement already satisfied: absl-py>=0.4 in c:\\users\\lequo\\anaconda3\\envs\\tensorflow_env\\lib\\site-packages (from tensorboard->detectron2==0.6) (2.1.0)\n",
      "Requirement already satisfied: grpcio>=1.24.3 in c:\\users\\lequo\\anaconda3\\envs\\tensorflow_env\\lib\\site-packages (from tensorboard->detectron2==0.6) (1.70.0)\n",
      "Requirement already satisfied: google-auth<3,>=1.6.3 in c:\\users\\lequo\\anaconda3\\envs\\tensorflow_env\\lib\\site-packages (from tensorboard->detectron2==0.6) (2.38.0)\n",
      "Requirement already satisfied: google-auth-oauthlib<0.5,>=0.4.1 in c:\\users\\lequo\\anaconda3\\envs\\tensorflow_env\\lib\\site-packages (from tensorboard->detectron2==0.6) (0.4.6)\n",
      "Requirement already satisfied: markdown>=2.6.8 in c:\\users\\lequo\\anaconda3\\envs\\tensorflow_env\\lib\\site-packages (from tensorboard->detectron2==0.6) (3.7)\n",
      "Requirement already satisfied: protobuf<3.20,>=3.9.2 in c:\\users\\lequo\\anaconda3\\envs\\tensorflow_env\\lib\\site-packages (from tensorboard->detectron2==0.6) (3.19.6)\n",
      "Requirement already satisfied: requests<3,>=2.21.0 in c:\\users\\lequo\\anaconda3\\envs\\tensorflow_env\\lib\\site-packages (from tensorboard->detectron2==0.6) (2.32.3)\n",
      "Requirement already satisfied: setuptools>=41.0.0 in c:\\users\\lequo\\anaconda3\\envs\\tensorflow_env\\lib\\site-packages (from tensorboard->detectron2==0.6) (75.8.0)\n",
      "Requirement already satisfied: tensorboard-data-server<0.7.0,>=0.6.0 in c:\\users\\lequo\\anaconda3\\envs\\tensorflow_env\\lib\\site-packages (from tensorboard->detectron2==0.6) (0.6.1)\n",
      "Requirement already satisfied: tensorboard-plugin-wit>=1.6.0 in c:\\users\\lequo\\anaconda3\\envs\\tensorflow_env\\lib\\site-packages (from tensorboard->detectron2==0.6) (1.8.1)\n",
      "Requirement already satisfied: werkzeug>=1.0.1 in c:\\users\\lequo\\anaconda3\\envs\\tensorflow_env\\lib\\site-packages (from tensorboard->detectron2==0.6) (3.1.3)\n",
      "Requirement already satisfied: wheel>=0.26 in c:\\users\\lequo\\anaconda3\\envs\\tensorflow_env\\lib\\site-packages (from tensorboard->detectron2==0.6) (0.45.1)\n",
      "Requirement already satisfied: cachetools<6.0,>=2.0.0 in c:\\users\\lequo\\anaconda3\\envs\\tensorflow_env\\lib\\site-packages (from google-auth<3,>=1.6.3->tensorboard->detectron2==0.6) (5.5.1)\n",
      "Requirement already satisfied: pyasn1-modules>=0.2.1 in c:\\users\\lequo\\anaconda3\\envs\\tensorflow_env\\lib\\site-packages (from google-auth<3,>=1.6.3->tensorboard->detectron2==0.6) (0.4.1)\n",
      "Requirement already satisfied: rsa<5,>=3.1.4 in c:\\users\\lequo\\anaconda3\\envs\\tensorflow_env\\lib\\site-packages (from google-auth<3,>=1.6.3->tensorboard->detectron2==0.6) (4.9)\n",
      "Requirement already satisfied: requests-oauthlib>=0.7.0 in c:\\users\\lequo\\anaconda3\\envs\\tensorflow_env\\lib\\site-packages (from google-auth-oauthlib<0.5,>=0.4.1->tensorboard->detectron2==0.6) (2.0.0)\n",
      "Requirement already satisfied: zipp>=3.1.0 in c:\\users\\lequo\\anaconda3\\envs\\tensorflow_env\\lib\\site-packages (from importlib-resources>=3.2.0->matplotlib->detectron2==0.6) (3.21.0)\n",
      "Requirement already satisfied: importlib-metadata>=4.4 in c:\\users\\lequo\\anaconda3\\envs\\tensorflow_env\\lib\\site-packages (from markdown>=2.6.8->tensorboard->detectron2==0.6) (8.6.1)\n",
      "Requirement already satisfied: six>=1.5 in c:\\users\\lequo\\anaconda3\\envs\\tensorflow_env\\lib\\site-packages (from python-dateutil>=2.7->matplotlib->detectron2==0.6) (1.17.0)\n",
      "Requirement already satisfied: charset-normalizer<4,>=2 in c:\\users\\lequo\\anaconda3\\envs\\tensorflow_env\\lib\\site-packages (from requests<3,>=2.21.0->tensorboard->detectron2==0.6) (3.4.1)\n",
      "Requirement already satisfied: idna<4,>=2.5 in c:\\users\\lequo\\anaconda3\\envs\\tensorflow_env\\lib\\site-packages (from requests<3,>=2.21.0->tensorboard->detectron2==0.6) (3.10)\n",
      "Requirement already satisfied: urllib3<3,>=1.21.1 in c:\\users\\lequo\\anaconda3\\envs\\tensorflow_env\\lib\\site-packages (from requests<3,>=2.21.0->tensorboard->detectron2==0.6) (2.3.0)\n",
      "Requirement already satisfied: certifi>=2017.4.17 in c:\\users\\lequo\\anaconda3\\envs\\tensorflow_env\\lib\\site-packages (from requests<3,>=2.21.0->tensorboard->detectron2==0.6) (2025.1.31)\n",
      "Requirement already satisfied: MarkupSafe>=2.1.1 in c:\\users\\lequo\\anaconda3\\envs\\tensorflow_env\\lib\\site-packages (from werkzeug>=1.0.1->tensorboard->detectron2==0.6) (3.0.2)\n",
      "Requirement already satisfied: pywin32>=226 in c:\\users\\lequo\\anaconda3\\envs\\tensorflow_env\\lib\\site-packages (from portalocker->iopath<0.1.10,>=0.1.7->detectron2==0.6) (307)\n",
      "Requirement already satisfied: pyasn1<0.7.0,>=0.4.6 in c:\\users\\lequo\\anaconda3\\envs\\tensorflow_env\\lib\\site-packages (from pyasn1-modules>=0.2.1->google-auth<3,>=1.6.3->tensorboard->detectron2==0.6) (0.6.1)\n",
      "Requirement already satisfied: oauthlib>=3.0.0 in c:\\users\\lequo\\anaconda3\\envs\\tensorflow_env\\lib\\site-packages (from requests-oauthlib>=0.7.0->google-auth-oauthlib<0.5,>=0.4.1->tensorboard->detectron2==0.6) (3.2.2)\n",
      "Building wheels for collected packages: detectron2\n",
      "  Building wheel for detectron2 (setup.py): started\n",
      "  Building wheel for detectron2 (setup.py): still running...\n",
      "  Building wheel for detectron2 (setup.py): finished with status 'done'\n",
      "  Created wheel for detectron2: filename=detectron2-0.6-cp39-cp39-win_amd64.whl size=890259 sha256=a9cd12bbe749c16ab7415bbf9a710e0466c6c6899496d5c81f3b6b34cc100241\n",
      "  Stored in directory: C:\\Users\\lequo\\AppData\\Local\\Temp\\pip-ephem-wheel-cache-300s00hr\\wheels\\59\\b4\\83\\84bfca751fa4dcc59998468be8688eb50e97408a83af171d42\n",
      "Successfully built detectron2\n",
      "Installing collected packages: detectron2\n",
      "Successfully installed detectron2-0.6\n"
     ]
    },
    {
     "name": "stderr",
     "output_type": "stream",
     "text": [
      "  Running command git clone --filter=blob:none --quiet https://github.com/facebookresearch/detectron2.git 'C:\\Users\\lequo\\AppData\\Local\\Temp\\pip-req-build-p1engh6q'\n"
     ]
    }
   ],
   "source": [
    "# Cài detectron2 từ source GitHub (tương thích mọi môi trường Kaggle)\n",
    "!pip install git+https://github.com/facebookresearch/detectron2.git"
   ]
  },
  {
   "cell_type": "code",
   "execution_count": 3,
   "metadata": {
    "execution": {
     "iopub.execute_input": "2025-04-03T14:35:05.140515Z",
     "iopub.status.busy": "2025-04-03T14:35:05.140192Z",
     "iopub.status.idle": "2025-04-03T14:35:05.144463Z",
     "shell.execute_reply": "2025-04-03T14:35:05.143711Z",
     "shell.execute_reply.started": "2025-04-03T14:35:05.140485Z"
    },
    "trusted": true
   },
   "outputs": [],
   "source": [
    "import os\n",
    "os.environ[\"CUDA_LAUNCH_BLOCKING\"] = \"1\""
   ]
  },
  {
   "cell_type": "code",
   "execution_count": 4,
   "metadata": {
    "execution": {
     "iopub.execute_input": "2025-04-03T14:35:05.459461Z",
     "iopub.status.busy": "2025-04-03T14:35:05.459157Z",
     "iopub.status.idle": "2025-04-03T14:35:10.368095Z",
     "shell.execute_reply": "2025-04-03T14:35:10.367014Z",
     "shell.execute_reply.started": "2025-04-03T14:35:05.459407Z"
    },
    "trusted": true
   },
   "outputs": [],
   "source": [
    "import os\n",
    "from detectron2.config import get_cfg\n",
    "from detectron2.engine import DefaultTrainer, HookBase\n",
    "from detectron2 import model_zoo\n",
    "from detectron2.modeling import build_model\n",
    "from detectron2.checkpoint import DetectionCheckpointer\n",
    "from detectron2.data import build_detection_test_loader, DatasetCatalog\n",
    "import torch\n",
    "from detectron2.data.datasets import register_coco_instances\n",
    "from detectron2.utils.events import get_event_storage\n",
    "from detectron2.evaluation import COCOEvaluator, inference_on_dataset\n",
    "import warnings\n",
    "warnings.filterwarnings(\"ignore\", category=FutureWarning)"
   ]
  },
  {
   "cell_type": "code",
   "execution_count": null,
   "metadata": {
    "trusted": true
   },
   "outputs": [],
   "source": [
    "# Đường dẫn đến dataset của bạn\n",
    "dataset_dir = \"/kaggle/input/data-for-skin-problem\"  # Thay đổi đường dẫn thực tế nếu cần"
   ]
  },
  {
   "cell_type": "code",
   "execution_count": null,
   "metadata": {
    "trusted": true
   },
   "outputs": [],
   "source": [
    "# Đăng ký tập TRAIN\n",
    "train_ann_file = os.path.join(dataset_dir, \"train\", \"_annotations.coco.json\")\n",
    "train_images_dir = os.path.join(dataset_dir, \"train\")\n",
    "register_coco_instances(\"skin_train_custom\", {}, train_ann_file, train_images_dir)\n",
    "\n",
    "# Đăng ký tập VALID (thư mục là \"valid\")\n",
    "val_ann_file = os.path.join(dataset_dir, \"valid\", \"_annotations.coco.json\")\n",
    "val_images_dir = os.path.join(dataset_dir, \"valid\")\n",
    "register_coco_instances(\"skin_valid_custom\", {}, val_ann_file, val_images_dir)\n",
    "\n",
    "# Đăng ký tập TEST\n",
    "test_ann_file = os.path.join(dataset_dir, \"test\", \"_annotations.coco.json\")\n",
    "test_images_dir = os.path.join(dataset_dir, \"test\")\n",
    "register_coco_instances(\"skin_test_custom\", {}, test_ann_file, test_images_dir)"
   ]
  },
  {
   "cell_type": "code",
   "execution_count": null,
   "metadata": {
    "trusted": true
   },
   "outputs": [],
   "source": [
    "dataset_len = len(DatasetCatalog.get(\"skin_train_custom\"))\n",
    "print(\"Số ảnh trong skin_train_custom:\", dataset_len)"
   ]
  },
  {
   "cell_type": "markdown",
   "metadata": {},
   "source": [
    "# **⚙️ Config**"
   ]
  },
  {
   "cell_type": "code",
   "execution_count": 28,
   "metadata": {
    "execution": {
     "iopub.execute_input": "2025-04-03T13:19:32.184743Z",
     "iopub.status.busy": "2025-04-03T13:19:32.184403Z",
     "iopub.status.idle": "2025-04-03T13:19:32.200226Z",
     "shell.execute_reply": "2025-04-03T13:19:32.199470Z",
     "shell.execute_reply.started": "2025-04-03T13:19:32.184713Z"
    },
    "trusted": true
   },
   "outputs": [],
   "source": [
    "\n",
    "cfg = get_cfg()\n",
    "cfg.merge_from_file(model_zoo.get_config_file(\"COCO-Detection/faster_rcnn_R_50_FPN_3x.yaml\"))\n",
    "cfg.DATASETS.TRAIN = (\"skin_train_custom\",)\n",
    "cfg.DATASETS.TEST = (\"skin_valid_custom\",)\n",
    "cfg.DATALOADER.NUM_WORKERS = 2\n",
    "cfg.MODEL.WEIGHTS = model_zoo.get_checkpoint_url(\"COCO-Detection/faster_rcnn_R_50_FPN_3x.yaml\")\n",
    "cfg.SOLVER.IMS_PER_BATCH = 8  # Có thể tăng nếu GPU dư RAM\n",
    "cfg.SOLVER.BASE_LR = 0.000375  # Tăng theo batch size\n",
    "cfg.SOLVER.MAX_ITER = 67000  # ~30 epoch nếu ~500 iter/epoch\n",
    "cfg.SOLVER.WARMUP_ITERS = 1000\n",
    "cfg.SOLVER.STEPS = (10000, 13000)\n",
    "cfg.SOLVER.GAMMA = 0.1\n",
    "cfg.SOLVER.AMP.ENABLED = True  # Mixed Precision = nhanh hơn\n",
    "cfg.MODEL.ROI_HEADS.BATCH_SIZE_PER_IMAGE = 128\n",
    "cfg.MODEL.ROI_HEADS.NUM_CLASSES = 13  # Điều chỉnh nếu loại class rỗng\n",
    "cfg.MODEL.DEVICE = \"cuda\"\n",
    "cfg.TEST.EVAL_PERIOD = 0  # Eval bằng hook\n",
    "cfg.OUTPUT_DIR = \"./output\"\n",
    "os.makedirs(cfg.OUTPUT_DIR, exist_ok=True)"
   ]
  },
  {
   "cell_type": "code",
   "execution_count": null,
   "metadata": {
    "execution": {
     "iopub.execute_input": "2025-04-03T13:19:34.215151Z",
     "iopub.status.busy": "2025-04-03T13:19:34.214849Z"
    },
    "trusted": true
   },
   "outputs": [
    {
     "name": "stdout",
     "output_type": "stream",
     "text": [
      "Epoch: 0 - Iteration: 0 - Loss: 3.2697\n"
     ]
    },
    {
     "name": "stderr",
     "output_type": "stream",
     "text": [
      "/usr/local/lib/python3.10/dist-packages/torch/optim/lr_scheduler.py:224: UserWarning: Detected call of `lr_scheduler.step()` before `optimizer.step()`. In PyTorch 1.1.0 and later, you should call them in the opposite order: `optimizer.step()` before `lr_scheduler.step()`.  Failure to do this will result in PyTorch skipping the first value of the learning rate schedule. See more details at https://pytorch.org/docs/stable/optim.html#how-to-adjust-learning-rate\n",
      "  warnings.warn(\n"
     ]
    },
    {
     "name": "stdout",
     "output_type": "stream",
     "text": [
      "Loading and preparing results...\n",
      "DONE (t=0.07s)\n",
      "creating index...\n",
      "index created!\n",
      " Average Precision  (AP) @[ IoU=0.50:0.95 | area=   all | maxDets=100 ] = 0.000\n",
      " Average Precision  (AP) @[ IoU=0.50      | area=   all | maxDets=100 ] = 0.000\n",
      " Average Precision  (AP) @[ IoU=0.75      | area=   all | maxDets=100 ] = 0.000\n",
      " Average Precision  (AP) @[ IoU=0.50:0.95 | area= small | maxDets=100 ] = 0.000\n",
      " Average Precision  (AP) @[ IoU=0.50:0.95 | area=medium | maxDets=100 ] = 0.000\n",
      " Average Precision  (AP) @[ IoU=0.50:0.95 | area= large | maxDets=100 ] = 0.000\n",
      " Average Recall     (AR) @[ IoU=0.50:0.95 | area=   all | maxDets=  1 ] = 0.000\n",
      " Average Recall     (AR) @[ IoU=0.50:0.95 | area=   all | maxDets= 10 ] = 0.000\n",
      " Average Recall     (AR) @[ IoU=0.50:0.95 | area=   all | maxDets=100 ] = 0.000\n",
      " Average Recall     (AR) @[ IoU=0.50:0.95 | area= small | maxDets=100 ] = 0.000\n",
      " Average Recall     (AR) @[ IoU=0.50:0.95 | area=medium | maxDets=100 ] = 0.000\n",
      " Average Recall     (AR) @[ IoU=0.50:0.95 | area= large | maxDets=100 ] = 0.000\n",
      "Eval: OrderedDict([('bbox', {'AP': 2.242935482185148e-06, 'AP50': 2.2429354821851484e-05, 'AP75': 0.0, 'APs': 0.0, 'APm': 0.0, 'APl': 2.368034751383584e-06, 'AP-melasma-acne-wrinkle': nan, 'AP-Dark Circle': 0.0, 'AP-Melasma': 0.0, 'AP-PIH': 0.0, 'AP-blackhead': 0.0, 'AP-cyst': 0.0, 'AP-freckles': 2.4672290304036632e-05, 'AP-nodule': 0.0, 'AP-papule': 0.0, 'AP-pustule': 0.0, 'AP-skin-pore': nan, 'AP-whitehead': 0.0, 'AP-wrinkle': 0.0})])\n"
     ]
    }
   ],
   "source": [
    "# 🔨 Build model & reset head\n",
    "model = build_model(cfg)\n",
    "checkpointer = DetectionCheckpointer(model, save_dir=cfg.OUTPUT_DIR)\n",
    "checkpointer.load(cfg.MODEL.WEIGHTS)\n",
    "model.roi_heads.box_predictor.cls_score.reset_parameters()\n",
    "model.roi_heads.box_predictor.bbox_pred.reset_parameters()\n",
    "model.to(torch.device(cfg.MODEL.DEVICE))\n",
    "\n",
    "# 📊 Custom hook: log loss + eval mỗi epoch\n",
    "class EpochEvalHook(HookBase):\n",
    "    def __init__(self, dataset_len, batch_size, cfg):\n",
    "        self.iter_per_epoch = dataset_len / batch_size\n",
    "        self.cfg = cfg\n",
    "        self.last_epoch = -1\n",
    "\n",
    "    def after_step(self):\n",
    "        storage = get_event_storage()\n",
    "        current_iter = storage.iter\n",
    "        current_epoch = int(current_iter / self.iter_per_epoch)\n",
    "\n",
    "        # Chỉ chạy khi qua epoch mới\n",
    "        if current_epoch > self.last_epoch:\n",
    "            self.last_epoch = current_epoch\n",
    "            try:\n",
    "                loss = storage.history(\"total_loss\").latest()\n",
    "                print(f\"Epoch: {current_epoch} - Iteration: {current_iter} - Loss: {loss:.4f}\")\n",
    "            except:\n",
    "                print(f\"Epoch: {current_epoch} - Iteration: {current_iter} - Loss not available\")\n",
    "\n",
    "            evaluator = COCOEvaluator(\"skin_valid_custom\", output_dir=self.cfg.OUTPUT_DIR)\n",
    "            val_loader = build_detection_test_loader(self.cfg, \"skin_valid_custom\")\n",
    "            results = inference_on_dataset(self.trainer.model, val_loader, evaluator)\n",
    "            print(f\"Eval: {results}\")\n",
    "\n",
    "# 🧠 Custom trainer dùng lại mô hình build sẵn\n",
    "class MyTrainer(DefaultTrainer):\n",
    "    @classmethod\n",
    "    def build_model(cls, cfg):\n",
    "        return model\n",
    "\n",
    "trainer = MyTrainer(cfg)\n",
    "trainer.register_hooks([EpochEvalHook(dataset_len, cfg.SOLVER.IMS_PER_BATCH, cfg)])\n",
    "trainer.resume_or_load(resume=False)\n",
    "trainer.train()"
   ]
  },
  {
   "cell_type": "code",
   "execution_count": 1,
   "metadata": {
    "execution": {
     "iopub.execute_input": "2025-04-04T02:52:41.529884Z",
     "iopub.status.busy": "2025-04-04T02:52:41.529570Z",
     "iopub.status.idle": "2025-04-04T02:52:41.929069Z",
     "shell.execute_reply": "2025-04-04T02:52:41.927894Z",
     "shell.execute_reply.started": "2025-04-04T02:52:41.529852Z"
    },
    "trusted": true
   },
   "outputs": [
    {
     "ename": "ModuleNotFoundError",
     "evalue": "No module named 'detectron2'",
     "output_type": "error",
     "traceback": [
      "\u001b[0;31m---------------------------------------------------------------------------\u001b[0m",
      "\u001b[0;31mModuleNotFoundError\u001b[0m                       Traceback (most recent call last)",
      "\u001b[0;32m<ipython-input-1-a8dd0137d5e2>\u001b[0m in \u001b[0;36m<cell line: 3>\u001b[0;34m()\u001b[0m\n\u001b[1;32m      1\u001b[0m \u001b[0;32mimport\u001b[0m \u001b[0mcv2\u001b[0m\u001b[0;34m\u001b[0m\u001b[0;34m\u001b[0m\u001b[0m\n\u001b[1;32m      2\u001b[0m \u001b[0;32mimport\u001b[0m \u001b[0mmatplotlib\u001b[0m\u001b[0;34m.\u001b[0m\u001b[0mpyplot\u001b[0m \u001b[0;32mas\u001b[0m \u001b[0mplt\u001b[0m\u001b[0;34m\u001b[0m\u001b[0;34m\u001b[0m\u001b[0m\n\u001b[0;32m----> 3\u001b[0;31m \u001b[0;32mfrom\u001b[0m \u001b[0mdetectron2\u001b[0m\u001b[0;34m.\u001b[0m\u001b[0mengine\u001b[0m \u001b[0;32mimport\u001b[0m \u001b[0mDefaultPredictor\u001b[0m\u001b[0;34m\u001b[0m\u001b[0;34m\u001b[0m\u001b[0m\n\u001b[0m\u001b[1;32m      4\u001b[0m \u001b[0;32mfrom\u001b[0m \u001b[0mdetectron2\u001b[0m\u001b[0;34m.\u001b[0m\u001b[0mconfig\u001b[0m \u001b[0;32mimport\u001b[0m \u001b[0mget_cfg\u001b[0m\u001b[0;34m\u001b[0m\u001b[0;34m\u001b[0m\u001b[0m\n\u001b[1;32m      5\u001b[0m \u001b[0;32mfrom\u001b[0m \u001b[0mdetectron2\u001b[0m \u001b[0;32mimport\u001b[0m \u001b[0mmodel_zoo\u001b[0m\u001b[0;34m\u001b[0m\u001b[0;34m\u001b[0m\u001b[0m\n",
      "\u001b[0;31mModuleNotFoundError\u001b[0m: No module named 'detectron2'"
     ]
    }
   ],
   "source": [
    "import cv2\n",
    "import matplotlib.pyplot as plt\n",
    "from detectron2.engine import DefaultPredictor\n",
    "from detectron2.config import get_cfg\n",
    "from detectron2 import model_zoo\n",
    "from detectron2.utils.visualizer import Visualizer\n",
    "\n",
    "# Cấu hình mô hình\n",
    "cfg = get_cfg()\n",
    "cfg.merge_from_file(model_zoo.get_config_file(\"COCO-Detection/faster_rcnn_R_50_FPN_3x.yaml\"))\n",
    "cfg.MODEL.ROI_HEADS.NUM_CLASSES = 13\n",
    "cfg.MODEL.WEIGHTS = \"/kaggle/input/test_model/pytorch/default/1/model_0044999.pth\"  # Đường dẫn tới file .pth của bạn\n",
    "cfg.MODEL.DEVICE = \"cpu\"  # Hoặc \"cuda\" nếu bạn muốn dùng GPU\n",
    "predictor = DefaultPredictor(cfg)\n",
    "\n",
    "# Đọc ảnh mẫu (OpenCV trả về ảnh ở định dạng BGR)\n",
    "im = cv2.imread(\"/kaggle/input/tesst-image/test_image.jpg\")  # Thay đổi đường dẫn cho phù hợp\n",
    "\n",
    "# Chuyển đổi ảnh từ BGR sang RGB\n",
    "im_rgb = im[:, :, ::-1]\n",
    "\n",
    "# Dự đoán\n",
    "outputs = predictor(im)\n",
    "\n",
    "# Tạo Visualizer với ảnh đã chuyển sang RGB\n",
    "v = Visualizer(im_rgb, scale=1.2)\n",
    "out = v.draw_instance_predictions(outputs[\"instances\"].to(\"cpu\"))\n",
    "\n",
    "# Hiển thị ảnh kết quả (vẫn ở định dạng RGB)\n",
    "plt.figure(figsize=(12, 12))\n",
    "plt.imshow(out.get_image())\n",
    "plt.axis(\"off\")\n",
    "plt.show()"
   ]
  },
  {
   "cell_type": "code",
   "execution_count": null,
   "metadata": {
    "trusted": true
   },
   "outputs": [],
   "source": []
  }
 ],
 "metadata": {
  "kaggle": {
   "accelerator": "gpu",
   "dataSources": [
    {
     "datasetId": 7040625,
     "sourceId": 11264150,
     "sourceType": "datasetVersion"
    },
    {
     "datasetId": 7041163,
     "sourceId": 11264824,
     "sourceType": "datasetVersion"
    },
    {
     "modelId": 290966,
     "modelInstanceId": 269979,
     "sourceId": 320040,
     "sourceType": "modelInstanceVersion"
    },
    {
     "modelId": 290976,
     "modelInstanceId": 269989,
     "sourceId": 320055,
     "sourceType": "modelInstanceVersion"
    }
   ],
   "dockerImageVersionId": 30919,
   "isGpuEnabled": true,
   "isInternetEnabled": true,
   "language": "python",
   "sourceType": "notebook"
  },
  "kernelspec": {
   "display_name": "tensorflow_env",
   "language": "python",
   "name": "python3"
  },
  "language_info": {
   "codemirror_mode": {
    "name": "ipython",
    "version": 3
   },
   "file_extension": ".py",
   "mimetype": "text/x-python",
   "name": "python",
   "nbconvert_exporter": "python",
   "pygments_lexer": "ipython3",
   "version": "3.9.21"
  }
 },
 "nbformat": 4,
 "nbformat_minor": 4
}
